{
 "cells": [
  {
   "cell_type": "code",
   "execution_count": null,
   "id": "cc3986e4-8e5e-4e75-a42a-017bee3c9a92",
   "metadata": {},
   "outputs": [],
   "source": []
  }
 ],
 "metadata": {
  "kernelspec": {
   "display_name": "SuperCollider",
   "language": "",
   "name": "sc_kernel"
  },
  "language_info": {
   "file_extension": ".scd",
   "mimetype": "text/x-sclang",
   "name": "smalltalk",
   "pygments_lexer": "supercollider"
  }
 },
 "nbformat": 4,
 "nbformat_minor": 5
}
