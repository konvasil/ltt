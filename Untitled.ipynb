{
 "cells": [
  {
   "cell_type": "code",
   "execution_count": 1,
   "id": "3177bc78-7f90-4c81-a2bf-721be9db1113",
   "metadata": {
    "tags": []
   },
   "outputs": [
    {
     "name": "stdout",
     "output_type": "stream",
     "text": [
      "-> localhost"
     ]
    }
   ],
   "source": [
    "s.boot;"
   ]
  },
  {
   "cell_type": "code",
   "execution_count": null,
   "id": "7be8b1ca-56a6-461c-b1e8-2af8388adcba",
   "metadata": {
    "tags": []
   },
   "outputs": [],
   "source": [
    "play{WhiteNoise.ar(0.1)}"
   ]
  },
  {
   "cell_type": "code",
   "execution_count": 3,
   "id": "105cdbb0-3188-4781-9b63-64df61378306",
   "metadata": {
    "tags": []
   },
   "outputs": [
    {
     "name": "stdout",
     "output_type": "stream",
     "text": [
      "server 'localhost' disconnected shared memory interface\n",
      "'/quit' message sent to server 'localhost'.\n",
      "-> localhost"
     ]
    }
   ],
   "source": [
    "s.quit"
   ]
  },
  {
   "cell_type": "code",
   "execution_count": null,
   "id": "a1058da7-9b03-4c93-95e4-cafdee815460",
   "metadata": {},
   "outputs": [],
   "source": []
  }
 ],
 "metadata": {
  "kernelspec": {
   "display_name": "SuperCollider",
   "language": "",
   "name": "sc_kernel"
  },
  "language_info": {
   "file_extension": ".scd",
   "mimetype": "text/x-sclang",
   "name": "smalltalk",
   "pygments_lexer": "supercollider"
  }
 },
 "nbformat": 4,
 "nbformat_minor": 5
}
